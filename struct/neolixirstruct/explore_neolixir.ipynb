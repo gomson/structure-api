{
 "cells": [
  {
   "cell_type": "code",
   "execution_count": 1,
   "metadata": {
    "collapsed": false
   },
   "outputs": [
    {
     "data": {
      "text/plain": [
       "True"
      ]
     },
     "execution_count": 1,
     "metadata": {},
     "output_type": "execute_result"
    }
   ],
   "source": [
    "import neolixir\n",
    "from neolixir import metadata\n",
    "metadata.authenticate('neo4j', 'neo4j')"
   ]
  },
  {
   "cell_type": "code",
   "execution_count": 6,
   "metadata": {
    "collapsed": false
   },
   "outputs": [],
   "source": [
    "from neolixirstruct.models import NeolixirBaseNode\n"
   ]
  },
  {
   "cell_type": "code",
   "execution_count": 7,
   "metadata": {
    "collapsed": false
   },
   "outputs": [
    {
     "data": {
      "text/plain": [
       "neolixirstruct.models.NeolixirBaseNode"
      ]
     },
     "execution_count": 7,
     "metadata": {},
     "output_type": "execute_result"
    }
   ],
   "source": [
    "NeolixirBaseNode"
   ]
  },
  {
   "cell_type": "code",
   "execution_count": 8,
   "metadata": {
    "collapsed": true
   },
   "outputs": [],
   "source": [
    "n = NeolixirBaseNode(path='testing/path')"
   ]
  },
  {
   "cell_type": "code",
   "execution_count": 11,
   "metadata": {
    "collapsed": false
   },
   "outputs": [
    {
     "data": {
      "text/plain": [
       "<NeolixirBaseNode (0x111d9d9d0): \n",
       "Id = 6\n",
       "Descriptors = ['comment', 'created_at', 'modified_at', 'path', 'scope', 'uuid', 'version']\n",
       "Properties = {'path': u'testing/path', 'version': u'0.1', 'scope': u'miniref', '__class__': 'NeolixirBaseNode', 'uuid': u'b0264a3c-a9d5-4d17-a8ea-b9d49be6afb2'}\n",
       ">"
      ]
     },
     "execution_count": 11,
     "metadata": {},
     "output_type": "execute_result"
    }
   ],
   "source": [
    "n"
   ]
  },
  {
   "cell_type": "code",
   "execution_count": 10,
   "metadata": {
    "collapsed": true
   },
   "outputs": [],
   "source": [
    "metadata.session.commit()"
   ]
  },
  {
   "cell_type": "code",
   "execution_count": 12,
   "metadata": {
    "collapsed": false
   },
   "outputs": [
    {
     "data": {
      "text/plain": [
       "neolixirstruct.models.NeolixirBaseNode"
      ]
     },
     "execution_count": 12,
     "metadata": {},
     "output_type": "execute_result"
    }
   ],
   "source": [
    "n.__class__"
   ]
  },
  {
   "cell_type": "code",
   "execution_count": 14,
   "metadata": {
    "collapsed": false
   },
   "outputs": [
    {
     "data": {
      "text/plain": [
       "'NeolixirBaseNode'"
      ]
     },
     "execution_count": 14,
     "metadata": {},
     "output_type": "execute_result"
    }
   ],
   "source": [
    "n.properties['__class__']"
   ]
  },
  {
   "cell_type": "code",
   "execution_count": 18,
   "metadata": {
    "collapsed": false
   },
   "outputs": [
    {
     "data": {
      "text/plain": [
       "<NeolixirBaseNode (0x111d9d9d0): \n",
       "Id = 6\n",
       "Descriptors = ['comment', 'created_at', 'modified_at', 'path', 'scope', 'uuid', 'version']\n",
       "Properties = {'path': u'testing/path', 'version': u'0.1', 'scope': u'miniref', '__class__': 'NeolixirBaseNode', 'uuid': u'b0264a3c-a9d5-4d17-a8ea-b9d49be6afb2'}\n",
       ">"
      ]
     },
     "execution_count": 18,
     "metadata": {},
     "output_type": "execute_result"
    }
   ],
   "source": [
    "NeolixirBaseNode.get_by(uuid='b0264a3c-a9d5-4d17-a8ea-b9d49be6afb2')"
   ]
  },
  {
   "cell_type": "code",
   "execution_count": 19,
   "metadata": {
    "collapsed": false
   },
   "outputs": [
    {
     "data": {
      "text/plain": [
       "[<NeolixirBaseNode (0x111d9d9d0): \n",
       " Id = 6\n",
       " Descriptors = ['comment', 'created_at', 'modified_at', 'path', 'scope', 'uuid', 'version']\n",
       " Properties = {'path': u'testing/path', 'version': u'0.1', 'scope': u'miniref', '__class__': 'NeolixirBaseNode', 'uuid': u'b0264a3c-a9d5-4d17-a8ea-b9d49be6afb2'}\n",
       " >]"
      ]
     },
     "execution_count": 19,
     "metadata": {},
     "output_type": "execute_result"
    }
   ],
   "source": [
    "NeolixirBaseNode.query.all()"
   ]
  },
  {
   "cell_type": "code",
   "execution_count": 20,
   "metadata": {
    "collapsed": false
   },
   "outputs": [
    {
     "data": {
      "text/plain": [
       "6"
      ]
     },
     "execution_count": 20,
     "metadata": {},
     "output_type": "execute_result"
    }
   ],
   "source": [
    "n.id\n"
   ]
  },
  {
   "cell_type": "code",
   "execution_count": 32,
   "metadata": {
    "collapsed": false
   },
   "outputs": [
    {
     "data": {
      "text/plain": [
       "{'_threadlocal': <thread._local at 0x111d13e90>,\n",
       " '_url': 'http://localhost:7474/db/data/',\n",
       " 'classes': {'Entity': neolixir.entity.Entity,\n",
       "  'NeolixirBaseNode': neolixirstruct.models.NeolixirBaseNode,\n",
       "  'Node': neolixir.node.Node,\n",
       "  'Relationship': neolixir.relationship.Relationship},\n",
       " 'session': <neolixir.session.Session at 0x111d6fb90>}"
      ]
     },
     "execution_count": 32,
     "metadata": {},
     "output_type": "execute_result"
    }
   ],
   "source": [
    "metadata.__dict__"
   ]
  },
  {
   "cell_type": "code",
   "execution_count": null,
   "metadata": {
    "collapsed": true
   },
   "outputs": [],
   "source": []
  }
 ],
 "metadata": {
  "kernelspec": {
   "display_name": "Python 2",
   "language": "python",
   "name": "python2"
  },
  "language_info": {
   "codemirror_mode": {
    "name": "ipython",
    "version": 2
   },
   "file_extension": ".py",
   "mimetype": "text/x-python",
   "name": "python",
   "nbconvert_exporter": "python",
   "pygments_lexer": "ipython2",
   "version": "2.7.11"
  },
  "widgets": {
   "state": {},
   "version": "1.1.2"
  }
 },
 "nbformat": 4,
 "nbformat_minor": 0
}
