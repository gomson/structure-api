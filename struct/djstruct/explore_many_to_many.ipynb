{
 "cells": [
  {
   "cell_type": "code",
   "execution_count": 1,
   "metadata": {
    "collapsed": false
   },
   "outputs": [
    {
     "ename": "ImportError",
     "evalue": "No module named djstruct",
     "output_type": "error",
     "traceback": [
      "\u001b[0;31m---------------------------------------------------------------------------\u001b[0m",
      "\u001b[0;31mImportError\u001b[0m                               Traceback (most recent call last)",
      "\u001b[0;32m<ipython-input-1-e3f0dfebd506>\u001b[0m in \u001b[0;36m<module>\u001b[0;34m()\u001b[0m\n\u001b[1;32m      5\u001b[0m \u001b[0;34m\u001b[0m\u001b[0m\n\u001b[1;32m      6\u001b[0m \u001b[0;31m# Now this script or any imported module can use any part of Django it needs.\u001b[0m\u001b[0;34m\u001b[0m\u001b[0;34m\u001b[0m\u001b[0m\n\u001b[0;32m----> 7\u001b[0;31m \u001b[0;32mfrom\u001b[0m \u001b[0mdjstruct\u001b[0m \u001b[0;32mimport\u001b[0m \u001b[0mmodels\u001b[0m\u001b[0;34m\u001b[0m\u001b[0m\n\u001b[0m",
      "\u001b[0;31mImportError\u001b[0m: No module named djstruct"
     ]
    }
   ],
   "source": [
    "import django\n",
    "from django.conf import settings\n",
    "settings.configure(DEBUG=True)\n",
    "django.setup()\n",
    "\n",
    "# Now this script or any imported module can use any part of Django it needs.\n",
    "from djstruct import models\n"
   ]
  },
  {
   "cell_type": "code",
   "execution_count": null,
   "metadata": {
    "collapsed": false
   },
   "outputs": [],
   "source": [
    "from djstruct.models import *"
   ]
  },
  {
   "cell_type": "code",
   "execution_count": 2,
   "metadata": {
    "collapsed": true
   },
   "outputs": [],
   "source": [
    "import sys"
   ]
  },
  {
   "cell_type": "code",
   "execution_count": 3,
   "metadata": {
    "collapsed": false
   },
   "outputs": [
    {
     "data": {
      "text/plain": [
       "['',\n",
       " '/Users/ivan/Projects/Minireference/STRUCTURE/pydev/lib/python27.zip',\n",
       " '/Users/ivan/Projects/Minireference/STRUCTURE/pydev/lib/python2.7',\n",
       " '/Users/ivan/Projects/Minireference/STRUCTURE/pydev/lib/python2.7/plat-darwin',\n",
       " '/Users/ivan/Projects/Minireference/STRUCTURE/pydev/lib/python2.7/plat-mac',\n",
       " '/Users/ivan/Projects/Minireference/STRUCTURE/pydev/lib/python2.7/plat-mac/lib-scriptpackages',\n",
       " '/Users/ivan/Projects/Minireference/STRUCTURE/pydev/lib/python2.7/lib-tk',\n",
       " '/Users/ivan/Projects/Minireference/STRUCTURE/pydev/lib/python2.7/lib-old',\n",
       " '/Users/ivan/Projects/Minireference/STRUCTURE/pydev/lib/python2.7/lib-dynload',\n",
       " '/usr/local/Cellar/python/2.7.11/Frameworks/Python.framework/Versions/2.7/lib/python2.7',\n",
       " '/usr/local/Cellar/python/2.7.11/Frameworks/Python.framework/Versions/2.7/lib/python2.7/plat-darwin',\n",
       " '/usr/local/Cellar/python/2.7.11/Frameworks/Python.framework/Versions/2.7/lib/python2.7/lib-tk',\n",
       " '/usr/local/Cellar/python/2.7.11/Frameworks/Python.framework/Versions/2.7/lib/python2.7/plat-mac',\n",
       " '/usr/local/Cellar/python/2.7.11/Frameworks/Python.framework/Versions/2.7/lib/python2.7/plat-mac/lib-scriptpackages',\n",
       " '/Users/ivan/Projects/Minireference/STRUCTURE/pydev/lib/python2.7/site-packages',\n",
       " '/Users/ivan/Projects/Minireference/STRUCTURE/pydev/lib/python2.7/site-packages/newrelic-2.50.0.39',\n",
       " '/Users/ivan/Projects/Minireference/STRUCTURE/pydev/lib/python2.7/site-packages/IPython/extensions',\n",
       " '/Users/ivan/.ipython']"
      ]
     },
     "execution_count": 3,
     "metadata": {},
     "output_type": "execute_result"
    }
   ],
   "source": [
    "sys.path"
   ]
  },
  {
   "cell_type": "code",
   "execution_count": null,
   "metadata": {
    "collapsed": true
   },
   "outputs": [],
   "source": []
  }
 ],
 "metadata": {
  "kernelspec": {
   "display_name": "Python 2",
   "language": "python",
   "name": "python2"
  },
  "language_info": {
   "codemirror_mode": {
    "name": "ipython",
    "version": 2
   },
   "file_extension": ".py",
   "mimetype": "text/x-python",
   "name": "python",
   "nbconvert_exporter": "python",
   "pygments_lexer": "ipython2",
   "version": "2.7.11"
  },
  "widgets": {
   "state": {},
   "version": "1.1.2"
  }
 },
 "nbformat": 4,
 "nbformat_minor": 0
}
